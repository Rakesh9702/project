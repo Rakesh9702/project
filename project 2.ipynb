{
 "cells": [
  {
   "cell_type": "code",
   "execution_count": 6,
   "id": "ee2e94ae-9d29-44cc-8c7c-4e1dfc3f09cb",
   "metadata": {},
   "outputs": [
    {
     "name": "stdout",
     "output_type": "stream",
     "text": [
      "[1, 3, 5, 7, 9, 11, 13, 15, 17, 19, 21, 23, 25]\n"
     ]
    }
   ],
   "source": [
    "#Q1. Which keyword is used to create a function? Create a function to return a list of odd numbers in the range of 1 to 25.\n",
    "# 'def' is the keyword used to create a function.\n",
    "def get_odd_number():\n",
    "    odd_numbers=[]\n",
    "    for num in range(1,26):\n",
    "        if num%2!=0:\n",
    "            odd_numbers.append(num)\n",
    "    return odd_numbers\n",
    "\n",
    "#call the function\n",
    "result=get_odd_number()\n",
    "print(result)"
   ]
  },
  {
   "cell_type": "code",
   "execution_count": 12,
   "id": "3f296c21-50ab-48ed-ae30-482f2c1d8c37",
   "metadata": {},
   "outputs": [
    {
     "name": "stdout",
     "output_type": "stream",
     "text": [
      "21\n"
     ]
    }
   ],
   "source": [
    "#Q2. Why *args and **kwargs is used in some functions? Create a function each for *args and **kwargs to demonstrate their use.\n",
    "''' *args and **kwargs are special syntax in Python used to pass a variable number of arguments to functions. They are often used when you want to create flexible functions that can accept different numbers of arguments or keyword arguments.'''\n",
    "# using *args \n",
    "def sum_all_number(*args):\n",
    "    total=0\n",
    "    for num in args:\n",
    "        total+=num\n",
    "    return total\n",
    "\n",
    "result=sum_all_number(1,2,3,4,5,6)\n",
    "print(result)"
   ]
  },
  {
   "cell_type": "code",
   "execution_count": 13,
   "id": "5aaba684-8a99-466a-aa45-849cdcb6f7f8",
   "metadata": {},
   "outputs": [
    {
     "name": "stdout",
     "output_type": "stream",
     "text": [
      "name: sonu\n",
      "age: 30\n",
      "city: hazaribagh\n"
     ]
    }
   ],
   "source": [
    "#using **kwargs\n",
    "def print_person_info(**kwargs):\n",
    "    for key, value in kwargs.items():\n",
    "        print(f\"{key}: {value}\")\n",
    "\n",
    "print_person_info(name=\"sonu\", age=30, city=\"hazaribagh\")"
   ]
  },
  {
   "cell_type": "code",
   "execution_count": 17,
   "id": "6f5c1169-e53a-4e20-b26e-d8284c769946",
   "metadata": {},
   "outputs": [
    {
     "name": "stdout",
     "output_type": "stream",
     "text": [
      "2\n",
      "4\n",
      "6\n",
      "8\n",
      "10\n"
     ]
    }
   ],
   "source": [
    "#Q3. What is an iterator in python? Name the method used to initialise the iterator object and the method used for iteration. Use these methods to print the first five elements of the given list [2, 4, 6, 8, 10, 12, 14,16, 18, 20].\n",
    "'''an iterator is an object that represents a stream of data'''\n",
    "input_list=[2,4,6,8,10,12,14,16,18,20]\n",
    "\n",
    "iterate=iter(input_list)\n",
    "\n",
    "for _ in range(5):\n",
    "    try:\n",
    "        elements=next(iterate)\n",
    "        print(elements)\n",
    "    \n",
    "    except stopiteration:\n",
    "        break"
   ]
  },
  {
   "cell_type": "code",
   "execution_count": 22,
   "id": "e608f3c9-f745-4aae-8c54-28e1c17c48a3",
   "metadata": {},
   "outputs": [
    {
     "name": "stdout",
     "output_type": "stream",
     "text": [
      "0\n",
      "1\n",
      "4\n",
      "9\n",
      "16\n"
     ]
    }
   ],
   "source": [
    "#Q4. What is a generator function in python? Why yield keyword is used? Give an example of a generator function.\n",
    "'''Generator functions return a generator object that is iterable\n",
    "  The yield keyword is used within a generator function to yield a value to the caller while also pausing the function's execution state.'''\n",
    "def square_numbers(n):\n",
    "    for i in range(n):\n",
    "        yield i**2\n",
    "        \n",
    "my_generator=square_numbers(5)\n",
    "\n",
    "for square in my_generator:\n",
    "    print(square)"
   ]
  },
  {
   "cell_type": "code",
   "execution_count": 26,
   "id": "87e97a61-bdf0-4147-b110-176f0a0fa8c9",
   "metadata": {},
   "outputs": [
    {
     "name": "stdout",
     "output_type": "stream",
     "text": [
      "2\n",
      "3\n",
      "5\n",
      "7\n",
      "9\n",
      "11\n",
      "13\n",
      "15\n",
      "17\n",
      "19\n",
      "21\n",
      "23\n",
      "25\n",
      "27\n",
      "29\n",
      "31\n",
      "33\n",
      "35\n",
      "37\n",
      "39\n"
     ]
    }
   ],
   "source": [
    "#Q5. Create a generator function for prime numbers less than 1000. Use the next() method to print the first 20 prime numbers.\n",
    "def is_prime(num):\n",
    "    if num<2:\n",
    "        return false\n",
    "    for i in range(2,int(num**0.5)+1):\n",
    "        if num%2==0:\n",
    "            return False\n",
    "    return True\n",
    "\n",
    "def prime_generator():\n",
    "    count=0\n",
    "    num=2\n",
    "    while count<20:\n",
    "        if is_prime(num):\n",
    "            yield num\n",
    "            count+=1\n",
    "        num+=1\n",
    "        \n",
    "prime_num=prime_generator()\n",
    "\n",
    "for _ in range(20):\n",
    "    prime=next(prime_num)\n",
    "    print(prime)"
   ]
  },
  {
   "cell_type": "code",
   "execution_count": 30,
   "id": "60de5140-9ffd-406d-b4a8-7cc0cc5ed9cd",
   "metadata": {},
   "outputs": [
    {
     "name": "stdout",
     "output_type": "stream",
     "text": [
      "0 1 1 2 3 5 8 13 21 34 "
     ]
    }
   ],
   "source": [
    "#Q6. Write a python program to print the first 10 Fibonacci numbers using a while loop.\n",
    "a,b=0,1\n",
    "\n",
    "count=0\n",
    "\n",
    "while count<10:\n",
    "    print(a,end=' ')\n",
    "    \n",
    "    a,b=b,a+b\n",
    "    \n",
    "    count+=1"
   ]
  },
  {
   "cell_type": "code",
   "execution_count": 33,
   "id": "8dd22b7b-f7f8-45b4-ab21-fa55a4a4947f",
   "metadata": {},
   "outputs": [
    {
     "name": "stdout",
     "output_type": "stream",
     "text": [
      "['p', 'w', 's', 'k', 'i', 'l', 'l', 's']\n"
     ]
    }
   ],
   "source": [
    "#Q7. Write a List Comprehension to iterate through the given string: ‘pwskills’.Expected output: ['p', 'w', 's', 'k', 'i', 'l', 'l', 's']\n",
    "input_string=\"pwskills\"\n",
    "\n",
    "result=[char for char in input_string]\n",
    "\n",
    "print(result)"
   ]
  },
  {
   "cell_type": "code",
   "execution_count": 36,
   "id": "3ae6c17d-b7e6-4eac-9138-5a1284e31747",
   "metadata": {},
   "outputs": [
    {
     "name": "stdin",
     "output_type": "stream",
     "text": [
      "enter a number: 158040851\n"
     ]
    },
    {
     "name": "stdout",
     "output_type": "stream",
     "text": [
      "158040851is a palindrome.\n"
     ]
    }
   ],
   "source": [
    "#Q8. Write a python program to check whether a given number is Palindrome or not using a while loop.\n",
    "def is_palindrome(num):\n",
    "    original_number=num\n",
    "    reverse_number=0\n",
    "    \n",
    "    while num>0:\n",
    "        remainder=num%10\n",
    "        reverse_number=reverse_number*10+remainder\n",
    "        num=num//10\n",
    "        \n",
    "    return original_number==reverse_number\n",
    "\n",
    "number=int(input(\"enter a number:\"))\n",
    "\n",
    "if is_palindrome(number):\n",
    "    print(f\"{number}is a palindrome.\")\n",
    "else:\n",
    "    print(f\"{number}is not a palindrome.\")"
   ]
  },
  {
   "cell_type": "code",
   "execution_count": 37,
   "id": "43e27b17-bd1b-4e97-8927-5add26e15f3c",
   "metadata": {},
   "outputs": [
    {
     "name": "stdout",
     "output_type": "stream",
     "text": [
      "[1, 3, 5, 7, 9, 11, 13, 15, 17, 19, 21, 23, 25, 27, 29, 31, 33, 35, 37, 39, 41, 43, 45, 47, 49, 51, 53, 55, 57, 59, 61, 63, 65, 67, 69, 71, 73, 75, 77, 79, 81, 83, 85, 87, 89, 91, 93, 95, 97, 99]\n"
     ]
    }
   ],
   "source": [
    "#Q9. Write a code to print odd numbers from 1 to 100 using list comprehension.\n",
    "numbers=[num for num in range(1,101)]\n",
    "\n",
    "odd_numbers=[num for num in numbers if num%2!=0]\n",
    "\n",
    "print(odd_numbers)"
   ]
  },
  {
   "cell_type": "code",
   "execution_count": 1,
   "id": "a663246d-27c8-4412-927f-aaa2978af528",
   "metadata": {},
   "outputs": [],
   "source": [
    "#end"
   ]
  },
  {
   "cell_type": "code",
   "execution_count": null,
   "id": "5aa921a8-b2b6-445d-8198-7541e26cbea3",
   "metadata": {},
   "outputs": [],
   "source": []
  }
 ],
 "metadata": {
  "kernelspec": {
   "display_name": "Python 3 (ipykernel)",
   "language": "python",
   "name": "python3"
  },
  "language_info": {
   "codemirror_mode": {
    "name": "ipython",
    "version": 3
   },
   "file_extension": ".py",
   "mimetype": "text/x-python",
   "name": "python",
   "nbconvert_exporter": "python",
   "pygments_lexer": "ipython3",
   "version": "3.10.8"
  }
 },
 "nbformat": 4,
 "nbformat_minor": 5
}
